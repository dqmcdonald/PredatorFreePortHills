{
 "cells": [
  {
   "cell_type": "code",
   "execution_count": 2,
   "id": "0c8a9ec5",
   "metadata": {},
   "outputs": [],
   "source": [
    "import numpy as np\n",
    "import pandas as pd\n",
    "import matplotlib.pyplot as plt\n",
    "import matplotlib.dates as mdates\n",
    "import pylunar\n",
    "from datetime import date, timedelta\n",
    "import scipy.stats as st\n",
    "from tqdm import notebook,trange\n",
    "import sklearn\n",
    "from sklearn import tree\n",
    "from sklearn.ensemble import RandomForestRegressor\n",
    "from sklearn import svm\n",
    "plt.style.use('seaborn')"
   ]
  },
  {
   "cell_type": "code",
   "execution_count": 3,
   "id": "4123cab5",
   "metadata": {},
   "outputs": [],
   "source": [
    "catches_df = pd.read_hdf('catches.h5',key='catches')"
   ]
  },
  {
   "cell_type": "code",
   "execution_count": 5,
   "id": "fe846cda",
   "metadata": {},
   "outputs": [
    {
     "data": {
      "text/plain": [
       "6115"
      ]
     },
     "execution_count": 5,
     "metadata": {},
     "output_type": "execute_result"
    }
   ],
   "source": []
  },
  {
   "cell_type": "code",
   "execution_count": null,
   "id": "93079f25",
   "metadata": {},
   "outputs": [],
   "source": []
  }
 ],
 "metadata": {
  "kernelspec": {
   "display_name": "Python 3 (ipykernel)",
   "language": "python",
   "name": "python3"
  },
  "language_info": {
   "codemirror_mode": {
    "name": "ipython",
    "version": 3
   },
   "file_extension": ".py",
   "mimetype": "text/x-python",
   "name": "python",
   "nbconvert_exporter": "python",
   "pygments_lexer": "ipython3",
   "version": "3.8.2"
  }
 },
 "nbformat": 4,
 "nbformat_minor": 5
}
