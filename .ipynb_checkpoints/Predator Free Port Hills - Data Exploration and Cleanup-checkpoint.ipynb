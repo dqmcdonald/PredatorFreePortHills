{
 "cells": [
  {
   "cell_type": "code",
   "execution_count": 1,
   "metadata": {},
   "outputs": [],
   "source": [
    "import numpy as np\n",
    "import pandas as pd\n",
    "import salem\n",
    "from salem import get_demo_file, DataLevels, GoogleVisibleMap, Map\n",
    "import matplotlib.pyplot as plt\n"
   ]
  },
  {
   "cell_type": "code",
   "execution_count": 2,
   "metadata": {},
   "outputs": [],
   "source": [
    "#Read the data:\n",
    "catches_df = pd.read_csv(\"catches_24_7_2021.csv\")"
   ]
  },
  {
   "cell_type": "code",
   "execution_count": 3,
   "metadata": {
    "scrolled": false
   },
   "outputs": [
    {
     "name": "stdout",
     "output_type": "stream",
     "text": [
      "There are 6272 rows originally in the data\n"
     ]
    },
    {
     "data": {
      "text/html": [
       "<div>\n",
       "<style scoped>\n",
       "    .dataframe tbody tr th:only-of-type {\n",
       "        vertical-align: middle;\n",
       "    }\n",
       "\n",
       "    .dataframe tbody tr th {\n",
       "        vertical-align: top;\n",
       "    }\n",
       "\n",
       "    .dataframe thead th {\n",
       "        text-align: right;\n",
       "    }\n",
       "</style>\n",
       "<table border=\"1\" class=\"dataframe\">\n",
       "  <thead>\n",
       "    <tr style=\"text-align: right;\">\n",
       "      <th></th>\n",
       "      <th>Community Group</th>\n",
       "      <th>Number/Code</th>\n",
       "      <th>Trap type</th>\n",
       "      <th>Bait</th>\n",
       "      <th>Strikes</th>\n",
       "      <th>Species caught</th>\n",
       "      <th>Date</th>\n",
       "      <th>Notes</th>\n",
       "      <th>created date</th>\n",
       "      <th>last edited date</th>\n",
       "      <th>Status</th>\n",
       "      <th>Rebaited</th>\n",
       "      <th>Trap condition</th>\n",
       "    </tr>\n",
       "  </thead>\n",
       "  <tbody>\n",
       "    <tr>\n",
       "      <th>0</th>\n",
       "      <td>Predator Free Port Hills Huntsbury</td>\n",
       "      <td>TP0004</td>\n",
       "      <td>DOC 200</td>\n",
       "      <td>Peanut butter</td>\n",
       "      <td>1.0</td>\n",
       "      <td>Rat</td>\n",
       "      <td>January 8, 2018</td>\n",
       "      <td>NaN</td>\n",
       "      <td>October 29, 2020</td>\n",
       "      <td>November 25, 2020</td>\n",
       "      <td>Sprung</td>\n",
       "      <td>Yes</td>\n",
       "      <td>OK</td>\n",
       "    </tr>\n",
       "    <tr>\n",
       "      <th>1</th>\n",
       "      <td>Predator Free Port Hills Huntsbury</td>\n",
       "      <td>TP0004</td>\n",
       "      <td>DOC 200</td>\n",
       "      <td>Peanut butter</td>\n",
       "      <td>1.0</td>\n",
       "      <td>Rat</td>\n",
       "      <td>January 14, 2019</td>\n",
       "      <td>NaN</td>\n",
       "      <td>October 29, 2020</td>\n",
       "      <td>November 25, 2020</td>\n",
       "      <td>Sprung</td>\n",
       "      <td>Yes</td>\n",
       "      <td>NaN</td>\n",
       "    </tr>\n",
       "    <tr>\n",
       "      <th>2</th>\n",
       "      <td>Predator Free Port Hills Huntsbury</td>\n",
       "      <td>TP0004</td>\n",
       "      <td>DOC 200</td>\n",
       "      <td>None</td>\n",
       "      <td>1.0</td>\n",
       "      <td>Rat</td>\n",
       "      <td>December 6, 2017</td>\n",
       "      <td>NaN</td>\n",
       "      <td>October 29, 2020</td>\n",
       "      <td>November 25, 2020</td>\n",
       "      <td>Sprung</td>\n",
       "      <td>Yes</td>\n",
       "      <td>OK</td>\n",
       "    </tr>\n",
       "    <tr>\n",
       "      <th>3</th>\n",
       "      <td>Predator Free Port Hills Huntsbury</td>\n",
       "      <td>TP0004</td>\n",
       "      <td>DOC 200</td>\n",
       "      <td>None</td>\n",
       "      <td>1.0</td>\n",
       "      <td>Rat</td>\n",
       "      <td>July 6, 2017</td>\n",
       "      <td>NaN</td>\n",
       "      <td>October 29, 2020</td>\n",
       "      <td>November 25, 2020</td>\n",
       "      <td>Sprung</td>\n",
       "      <td>Yes</td>\n",
       "      <td>OK</td>\n",
       "    </tr>\n",
       "    <tr>\n",
       "      <th>4</th>\n",
       "      <td>Predator Free Port Hills Huntsbury</td>\n",
       "      <td>TP0004</td>\n",
       "      <td>DOC 200</td>\n",
       "      <td>Peanut butter</td>\n",
       "      <td>1.0</td>\n",
       "      <td>Rat</td>\n",
       "      <td>October 14, 2017</td>\n",
       "      <td>NaN</td>\n",
       "      <td>October 29, 2020</td>\n",
       "      <td>November 25, 2020</td>\n",
       "      <td>Sprung</td>\n",
       "      <td>Yes</td>\n",
       "      <td>OK</td>\n",
       "    </tr>\n",
       "  </tbody>\n",
       "</table>\n",
       "</div>"
      ],
      "text/plain": [
       "                      Community Group Number/Code Trap type           Bait  \\\n",
       "0  Predator Free Port Hills Huntsbury      TP0004   DOC 200  Peanut butter   \n",
       "1  Predator Free Port Hills Huntsbury      TP0004   DOC 200  Peanut butter   \n",
       "2  Predator Free Port Hills Huntsbury      TP0004   DOC 200           None   \n",
       "3  Predator Free Port Hills Huntsbury      TP0004   DOC 200           None   \n",
       "4  Predator Free Port Hills Huntsbury      TP0004   DOC 200  Peanut butter   \n",
       "\n",
       "   Strikes Species caught              Date Notes      created date  \\\n",
       "0      1.0            Rat   January 8, 2018   NaN  October 29, 2020   \n",
       "1      1.0            Rat  January 14, 2019   NaN  October 29, 2020   \n",
       "2      1.0            Rat  December 6, 2017   NaN  October 29, 2020   \n",
       "3      1.0            Rat      July 6, 2017   NaN  October 29, 2020   \n",
       "4      1.0            Rat  October 14, 2017   NaN  October 29, 2020   \n",
       "\n",
       "    last edited date  Status Rebaited Trap condition  \n",
       "0  November 25, 2020  Sprung      Yes             OK  \n",
       "1  November 25, 2020  Sprung      Yes            NaN  \n",
       "2  November 25, 2020  Sprung      Yes             OK  \n",
       "3  November 25, 2020  Sprung      Yes             OK  \n",
       "4  November 25, 2020  Sprung      Yes             OK  "
      ]
     },
     "execution_count": 3,
     "metadata": {},
     "output_type": "execute_result"
    }
   ],
   "source": [
    "print(\"There are {} rows originally in the data\".format(len(catches_df)))\n",
    "catches_df.head()"
   ]
  },
  {
   "cell_type": "code",
   "execution_count": 4,
   "metadata": {},
   "outputs": [],
   "source": [
    "catches_df['Community Group'] = catches_df['Community Group'].str.replace(\"Predator Free Port Hills \",\"\")"
   ]
  },
  {
   "cell_type": "code",
   "execution_count": 5,
   "metadata": {},
   "outputs": [],
   "source": [
    "def remove_nans(df,col):\n",
    "    before = len(df)\n",
    "    df = df.dropna(subset=[col])\n",
    "    after = len(df)\n",
    "    print(\"{} rows with Nan {} values removed\".format(before-after,col))\n",
    "    return df"
   ]
  },
  {
   "cell_type": "code",
   "execution_count": 6,
   "metadata": {},
   "outputs": [
    {
     "name": "stdout",
     "output_type": "stream",
     "text": [
      "3 rows with Nan Community Group values removed\n"
     ]
    },
    {
     "data": {
      "text/plain": [
       "array(['Huntsbury', 'St Martins', 'Cashmere', 'Hillsborough',\n",
       "       'Westmorland', 'Lyttelton', 'Sumner Bays', 'Mount Pleasant',\n",
       "       'Diamond Harbour', 'Heathcote', 'Head of the Harbour', 'Halswell',\n",
       "       'Tai Tapu', 'Mt Pleasant'], dtype=object)"
      ]
     },
     "execution_count": 6,
     "metadata": {},
     "output_type": "execute_result"
    }
   ],
   "source": [
    "catches_df = remove_nans(catches_df,'Community Group')\n",
    "catches_df['Community Group'].unique()"
   ]
  },
  {
   "cell_type": "code",
   "execution_count": 7,
   "metadata": {},
   "outputs": [
    {
     "name": "stdout",
     "output_type": "stream",
     "text": [
      "24 rows with Nan Bait values removed\n"
     ]
    },
    {
     "data": {
      "text/plain": [
       "array(['Peanut butter', 'None', 'Dried fruit', 'Other (please specify)',\n",
       "       'Fresh fruit', 'Fresh meat', 'Salted meat', 'Cheese',\n",
       "       'Rat and Possum Lure', 'Chocolate', 'Mustelid and Cat Lure',\n",
       "       'Lure', 'Tinned Sardines', 'cheese', 'Eggsellent from Connovation',\n",
       "       'Whole egg', 'cereal', 'Tahini', 'nutella', 'chocolate', 'Jam',\n",
       "       'fat', 'other', 'Fat', 'Goodnature Rat and Mouse Lure',\n",
       "       'Mayonnaise', 'Nutella', 'Fresh Rabbit', 'Cereal', 'Carrot',\n",
       "       'Possum Dough', '\\u200bGoodnature Stoat Lure', 'Dehydrated Rabbit',\n",
       "       'Nut'], dtype=object)"
      ]
     },
     "execution_count": 7,
     "metadata": {},
     "output_type": "execute_result"
    }
   ],
   "source": [
    "catches_df = remove_nans(catches_df,'Bait')\n",
    "catches_df['Bait'].unique()"
   ]
  },
  {
   "cell_type": "code",
   "execution_count": 8,
   "metadata": {},
   "outputs": [
    {
     "name": "stdout",
     "output_type": "stream",
     "text": [
      "0 rows with Nan Species caught values removed\n"
     ]
    },
    {
     "data": {
      "text/plain": [
       "array(['Rat', 'Hedgehog', 'Weasel', 'Mouse', 'Possum', 'None',\n",
       "       'Unspecified', 'Other', 'Cat', 'Magpie', 'Bird', 'Stoat', 'Rabbit',\n",
       "       'Ferret'], dtype=object)"
      ]
     },
     "execution_count": 8,
     "metadata": {},
     "output_type": "execute_result"
    }
   ],
   "source": [
    "catches_df = remove_nans(catches_df,'Species caught')\n",
    "catches_df['Species caught'].unique()"
   ]
  },
  {
   "cell_type": "code",
   "execution_count": 16,
   "metadata": {},
   "outputs": [
    {
     "name": "stdout",
     "output_type": "stream",
     "text": [
      "0 rows with Nan Trap type values removed\n"
     ]
    },
    {
     "data": {
      "text/plain": [
       "array(['DOC 200', 'Unspecified', 'Cage Trap', 'Rat trap', 'Mouse trap',\n",
       "       'Timms', 'A24', 'Trapinator', 'A12', 'DOC 150', 'Victor',\n",
       "       'Snap E Rat', 'other', 'fenn', 'DOC 250', 'Leg hold trap',\n",
       "       'Sentinel', 'Zaptrap', 'D-Rat', 'Ka mate', 'T-Rex Rat Trap'],\n",
       "      dtype=object)"
      ]
     },
     "execution_count": 16,
     "metadata": {},
     "output_type": "execute_result"
    }
   ],
   "source": [
    "catches_df = remove_nans(catches_df,'Trap type')\n",
    "catches_df['Trap type'].unique()"
   ]
  },
  {
   "cell_type": "code",
   "execution_count": 9,
   "metadata": {},
   "outputs": [
    {
     "name": "stdout",
     "output_type": "stream",
     "text": [
      "There are 6245 rows remaining in the data\n"
     ]
    }
   ],
   "source": [
    "print(\"There are {} rows remaining in the data\".format(len(catches_df)))"
   ]
  },
  {
   "cell_type": "code",
   "execution_count": 10,
   "metadata": {
    "scrolled": true
   },
   "outputs": [
    {
     "data": {
      "image/png": "[encoded data removed]",
      "text/plain": [
       "<Figure size 432x288 with 1 Axes>"
      ]
     },
     "metadata": {
      "needs_background": "light"
     },
     "output_type": "display_data"
    }
   ],
   "source": [
    "group_counts = catches_df['Community Group'].value_counts()\n",
    "\n",
    "hb = group_counts.plot.barh()\n",
    "plt.xlabel(\"Catches\")\n",
    "plt.show()"
   ]
  },
  {
   "cell_type": "code",
   "execution_count": 11,
   "metadata": {},
   "outputs": [
    {
     "data": {
      "image/png": "[encoded data removed]",
      "text/plain": [
       "<Figure size 432x288 with 1 Axes>"
      ]
     },
     "metadata": {
      "needs_background": "light"
     },
     "output_type": "display_data"
    }
   ],
   "source": [
    "species_counts = catches_df['Species caught'].value_counts()\n",
    "\n",
    "hb = species_counts.plot.barh()\n",
    "plt.xlabel(\"Catches\")\n",
    "plt.show()"
   ]
  },
  {
   "cell_type": "code",
   "execution_count": 18,
   "metadata": {},
   "outputs": [
    {
     "data": {
      "image/png": "[encoded data removed]",
      "text/plain": [
       "<Figure size 432x288 with 1 Axes>"
      ]
     },
     "metadata": {
      "needs_background": "light"
     },
     "output_type": "display_data"
    }
   ],
   "source": [
    "type_counts = catches_df['Trap type'].value_counts()\n",
    "\n",
    "hb = type_counts.plot.barh()\n",
    "plt.xlabel(\"Catches\")\n",
    "plt.show()"
   ]
  },
  {
   "cell_type": "code",
   "execution_count": 12,
   "metadata": {
    "scrolled": true
   },
   "outputs": [],
   "source": [
    "# Add datetime column:\n",
    "catches_df['Datetime'] = pd.to_datetime(catches_df['Date'])\n"
   ]
  },
  {
   "cell_type": "code",
   "execution_count": 13,
   "metadata": {
    "scrolled": true
   },
   "outputs": [
    {
     "name": "stderr",
     "output_type": "stream",
     "text": [
      "/Users/que/opt/anaconda3/envs/tf/lib/python3.7/site-packages/pandas/core/generic.py:2449: PerformanceWarning: \n",
      "your performance may suffer as PyTables will pickle object types that it cannot\n",
      "map directly to c-types [inferred_type->mixed,key->block1_values] [items->Index(['Community Group', 'Number/Code', 'Trap type', 'Bait', 'Species caught',\n",
      "       'Date', 'Notes', 'created date', 'last edited date', 'Status',\n",
      "       'Rebaited', 'Trap condition'],\n",
      "      dtype='object')]\n",
      "\n",
      "  encoding=encoding,\n"
     ]
    }
   ],
   "source": [
    "# Write to HDF5\n",
    "catches_df.to_hdf('catches.h5',key='catches',mode='w')"
   ]
  },
  {
   "cell_type": "code",
   "execution_count": null,
   "metadata": {},
   "outputs": [],
   "source": []
  },
  {
   "cell_type": "code",
   "execution_count": null,
   "metadata": {},
   "outputs": [],
   "source": []
  }
 ],
 "metadata": {
  "kernelspec": {
   "display_name": "Python 3",
   "language": "python",
   "name": "python3"
  },
  "language_info": {
   "codemirror_mode": {
    "name": "ipython",
    "version": 3
   },
   "file_extension": ".py",
   "mimetype": "text/x-python",
   "name": "python",
   "nbconvert_exporter": "python",
   "pygments_lexer": "ipython3",
   "version": "3.7.8"
  }
 },
 "nbformat": 4,
 "nbformat_minor": 4
}
